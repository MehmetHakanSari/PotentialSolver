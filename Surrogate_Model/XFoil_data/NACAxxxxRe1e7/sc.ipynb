{
 "cells": [
  {
   "cell_type": "code",
   "execution_count": 41,
   "metadata": {},
   "outputs": [],
   "source": [
    "\"\"\"Runs an XFOIL analysis for a given airfoil and flow conditions\"\"\"\n",
    "import os\n",
    "import subprocess\n",
    "import numpy as np\n",
    "\n",
    "# %% Inputs\n",
    "\n",
    "\n",
    "\n",
    "def xfoil_analysis(airfoil_name, alpha_i, alpha_f, alpha_step, Re = 1e7, n_iter = 100):\n",
    "\n",
    "    file_name = str(airfoil_name) + \".txt\"\n",
    "    # print(file_name)\n",
    "    \n",
    "    if os.path.exists(file_name):\n",
    "        os.remove(file_name)\n",
    "\n",
    "    input_file = open(\"input_file.in\", 'w')\n",
    "    input_file.write(\"LOAD {0}.dat\\n\".format(airfoil_name))\n",
    "    input_file.write(airfoil_name + '\\n')\n",
    "    input_file.write(\"PANE\\n\")\n",
    "    input_file.write(\"OPER\\n\")\n",
    "    input_file.write(\"Visc {0}\\n\".format(Re))\n",
    "    input_file.write(\"PACC\\n\")\n",
    "    input_file.write(file_name + \"\\n\\n\")\n",
    "    input_file.write(\"ITER {0}\\n\".format(n_iter))\n",
    "    input_file.write(\"ASeq {0} {1} {2}\\n\".format(alpha_i, alpha_f,\n",
    "                                                alpha_step))\n",
    "    input_file.write(\"\\n\\n\")\n",
    "    input_file.write(\"quit\\n\")\n",
    "    input_file.close()\n",
    "\n",
    "    subprocess.call(\"xfoil.exe < input_file.in\", shell=True)\n",
    "\n",
    "    file_name = np.loadtxt(file_name, skiprows=12)"
   ]
  },
  {
   "cell_type": "code",
   "execution_count": 43,
   "metadata": {},
   "outputs": [],
   "source": [
    "alpha_i = -5\n",
    "alpha_f = 15\n",
    "alpha_step = 1\n",
    "Re = 1000000\n",
    "n_iter = 100\n",
    "\n",
    "for i in range(9999):\n",
    "    airfoil_name = \"NACA\" + str(i)\n",
    "    if np.mod(i,100) != 0:\n",
    "        xfoil_analysis(airfoil_name, alpha_i, alpha_f, alpha_step, Re, n_iter)"
   ]
  }
 ],
 "metadata": {
  "kernelspec": {
   "display_name": "base",
   "language": "python",
   "name": "python3"
  },
  "language_info": {
   "codemirror_mode": {
    "name": "ipython",
    "version": 3
   },
   "file_extension": ".py",
   "mimetype": "text/x-python",
   "name": "python",
   "nbconvert_exporter": "python",
   "pygments_lexer": "ipython3",
   "version": "3.9.13"
  },
  "orig_nbformat": 4
 },
 "nbformat": 4,
 "nbformat_minor": 2
}

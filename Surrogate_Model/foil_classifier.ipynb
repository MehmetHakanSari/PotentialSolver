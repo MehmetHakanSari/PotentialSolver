{
 "cells": [
  {
   "cell_type": "code",
   "execution_count": 3,
   "metadata": {},
   "outputs": [],
   "source": [
    "import numpy as np\n",
    "import matplotlib.pyplot as plt\n",
    "\n",
    "#This function imports the data in the NACAxxxx file and returns the alpha, CL and CM values\n",
    "def import_data(filename):\n",
    "    PATH = r'C:/Users/mtaha/OneDrive/Belgeler/GitHub/FoilSolver/Surrogate_Model/XFoil_data/NACAxxxx'\n",
    "    filename = PATH + '\\\\' + filename + '.txt'\n",
    "    data = np.genfromtxt(filename, skip_header=12)\n",
    "    alpha = data[:,0]\n",
    "    CL = data[:,1]\n",
    "    CM = data[:,4]\n",
    "    return alpha, CL, CM\n",
    "\n",
    "x_matrix = np.zeros((9999*15, 4))\n",
    "CL_matrix = np.zeros((9999*15, 1))\n",
    "CM_matrix = np.zeros((9999*15, 1))\n",
    "\n",
    "for i in range(9999):\n",
    "    if np.mod(i,100) != 0:\n",
    "        NAME = str(i).zfill(4)\n",
    "        first_param = int(NAME[0])\n",
    "        second_param = int(NAME[1])\n",
    "        third_param = int(NAME[2:])\n",
    "        alpha, CL, CM = import_data('NACA' + NAME)\n",
    "        x_matrix[i*15:(i+1)*15,0] = first_param\n",
    "        x_matrix[i*15:(i+1)*15,1] = second_param\n",
    "        x_matrix[i*15:(i+1)*15,2] = third_param\n",
    "        x_matrix[i*15:(i+1)*15,3] = alpha\n",
    "        CL_matrix[i*15:(i+1)*15,0] = CL\n",
    "        CM_matrix[i*15:(i+1)*15,0] = CM\n"
   ]
  },
  {
   "cell_type": "code",
   "execution_count": null,
   "metadata": {},
   "outputs": [],
   "source": [
    "\n",
    "#This function trains the data with x_matrix and CL_matrix with feedforward neural network\n",
    "\n",
    "def train_data(x_matrix, CL_matrix):\n",
    "    from sklearn.neural_network import MLPRegressor\n",
    "    from sklearn.model_selection import train_test_split\n",
    "    from sklearn.metrics import mean_squared_error\n",
    "    from sklearn.metrics import r2_score\n",
    "    x_train, x_test, y_train, y_test = train_test_split(x_matrix, CL_matrix, test_size=0.2, random_state=42)\n",
    "    mlp = MLPRegressor(hidden_layer_sizes=(100,100,100), max_iter=1000)\n",
    "    mlp.fit(x_train, y_train)\n",
    "    predictions = mlp.predict(x_test)\n",
    "    mse = mean_squared_error(y_test, predictions)\n",
    "    r2 = r2_score(y_test, predictions)\n",
    "    accuracy = mlp.score(x_test, y_test)\n",
    "    print('MSE: ', mse)\n",
    "    print('R2: ', r2)\n",
    "    print('Accuracy: ', accuracy)\n",
    "    return mlp\n",
    "\n",
    "def predict_CL(mlp, first_param, second_param, third_param, alpha):\n",
    "    x = np.array([first_param, second_param, third_param, alpha])\n",
    "    x = x.reshape(1, -1)\n",
    "    prediction = mlp.predict(x)\n",
    "    return prediction\n",
    "\n",
    "model = train_data(x_matrix, CL_matrix)\n",
    "pred = predict_CL(model, 0, 0, 12, 5)\n",
    "print(pred)\n"
   ]
  },
  {
   "cell_type": "code",
   "execution_count": 62,
   "metadata": {},
   "outputs": [],
   "source": [
    "#This function trains the data with x_matrix and CM_matrix by using polynomial regression\n",
    "from sklearn.preprocessing import PolynomialFeatures\n",
    "from sklearn.linear_model import LinearRegression\n",
    "from sklearn.model_selection import train_test_split\n",
    "from sklearn.metrics import mean_squared_error\n",
    "from sklearn.metrics import r2_score\n",
    "\n",
    "\n",
    "def train_data_poly(x_matrix, CL_matrix):\n",
    "\n",
    "    x_train, x_test, y_train, y_test = train_test_split(x_matrix, CL_matrix, test_size=0.2, random_state=42)\n",
    "    poly = PolynomialFeatures(degree=9)\n",
    "    x_poly = poly.fit_transform(x_train)\n",
    "    poly.fit(x_poly, y_train)\n",
    "    lin2 = LinearRegression()\n",
    "    lin2.fit(x_poly, y_train)\n",
    "    predictions = lin2.predict(poly.fit_transform(x_test))\n",
    "    mse = mean_squared_error(y_test, predictions)\n",
    "    r2 = r2_score(y_test, predictions)\n",
    "    accuracy = lin2.score(poly.fit_transform(x_test), y_test)\n",
    "    print('MSE: ', mse)\n",
    "    print('R2: ', r2)\n",
    "    print('Accuracy: ', accuracy)\n",
    "    return lin2\n",
    "\n",
    "def predict_CL(lin2, first_param, second_param, third_param, alpha):\n",
    "    x = np.array([first_param, second_param, third_param, alpha])\n",
    "    x = x.reshape(1, -1)\n",
    "    poly = PolynomialFeatures(degree=9)\n",
    "    x_poly = poly.fit_transform(x)\n",
    "    prediction = lin2.predict(x_poly)\n",
    "    return prediction\n"
   ]
  },
  {
   "cell_type": "code",
   "execution_count": 63,
   "metadata": {},
   "outputs": [
    {
     "name": "stdout",
     "output_type": "stream",
     "text": [
      "MSE:  0.005045273223678188\n",
      "R2:  0.998405503762391\n",
      "Accuracy:  0.998405503762391\n",
      "[[0.73404049]]\n"
     ]
    }
   ],
   "source": [
    "\n",
    "model2 = train_data_poly(x_matrix, CL_matrix)\n",
    "\n",
    "pred2 = predict_CL(model2, 0, 0, 12, 9)\n",
    "print(pred2)"
   ]
  }
 ],
 "metadata": {
  "kernelspec": {
   "display_name": "base",
   "language": "python",
   "name": "python3"
  },
  "language_info": {
   "codemirror_mode": {
    "name": "ipython",
    "version": 3
   },
   "file_extension": ".py",
   "mimetype": "text/x-python",
   "name": "python",
   "nbconvert_exporter": "python",
   "pygments_lexer": "ipython3",
   "version": "3.9.13"
  },
  "orig_nbformat": 4
 },
 "nbformat": 4,
 "nbformat_minor": 2
}

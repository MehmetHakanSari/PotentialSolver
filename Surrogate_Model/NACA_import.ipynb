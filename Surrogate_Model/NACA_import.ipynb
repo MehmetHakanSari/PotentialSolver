{
 "cells": [
  {
   "cell_type": "code",
   "execution_count": 4,
   "metadata": {},
   "outputs": [
    {
     "name": "stdout",
     "output_type": "stream",
     "text": [
      "100000\n"
     ]
    },
    {
     "name": "stderr",
     "output_type": "stream",
     "text": [
      "C:\\Users\\mtaha\\AppData\\Local\\Temp\\ipykernel_10420\\240653774.py:20: UserWarning: loadtxt: input contained no data: \"NACA4DIGIT_DATABASE\\NACAxxxx_Re_100000\\NACA1339.txt\"\n",
      "  temp_array = np.loadtxt(file, skiprows=12)\n",
      "C:\\Users\\mtaha\\AppData\\Local\\Temp\\ipykernel_10420\\240653774.py:20: UserWarning: loadtxt: input contained no data: \"NACA4DIGIT_DATABASE\\NACAxxxx_Re_100000\\NACA3435.txt\"\n",
      "  temp_array = np.loadtxt(file, skiprows=12)\n",
      "C:\\Users\\mtaha\\AppData\\Local\\Temp\\ipykernel_10420\\240653774.py:20: UserWarning: loadtxt: input contained no data: \"NACA4DIGIT_DATABASE\\NACAxxxx_Re_100000\\NACA3436.txt\"\n",
      "  temp_array = np.loadtxt(file, skiprows=12)\n",
      "C:\\Users\\mtaha\\AppData\\Local\\Temp\\ipykernel_10420\\240653774.py:20: UserWarning: loadtxt: input contained no data: \"NACA4DIGIT_DATABASE\\NACAxxxx_Re_1000000\\NACA0101.txt\"\n",
      "  temp_array = np.loadtxt(file, skiprows=12)\n",
      "C:\\Users\\mtaha\\AppData\\Local\\Temp\\ipykernel_10420\\240653774.py:20: UserWarning: loadtxt: input contained no data: \"NACA4DIGIT_DATABASE\\NACAxxxx_Re_1000000\\NACA0102.txt\"\n",
      "  temp_array = np.loadtxt(file, skiprows=12)\n",
      "C:\\Users\\mtaha\\AppData\\Local\\Temp\\ipykernel_10420\\240653774.py:20: UserWarning: loadtxt: input contained no data: \"NACA4DIGIT_DATABASE\\NACAxxxx_Re_1000000\\NACA0103.txt\"\n",
      "  temp_array = np.loadtxt(file, skiprows=12)\n",
      "C:\\Users\\mtaha\\AppData\\Local\\Temp\\ipykernel_10420\\240653774.py:20: UserWarning: loadtxt: input contained no data: \"NACA4DIGIT_DATABASE\\NACAxxxx_Re_1000000\\NACA0104.txt\"\n",
      "  temp_array = np.loadtxt(file, skiprows=12)\n",
      "C:\\Users\\mtaha\\AppData\\Local\\Temp\\ipykernel_10420\\240653774.py:20: UserWarning: loadtxt: input contained no data: \"NACA4DIGIT_DATABASE\\NACAxxxx_Re_1000000\\NACA0201.txt\"\n",
      "  temp_array = np.loadtxt(file, skiprows=12)\n",
      "C:\\Users\\mtaha\\AppData\\Local\\Temp\\ipykernel_10420\\240653774.py:20: UserWarning: loadtxt: input contained no data: \"NACA4DIGIT_DATABASE\\NACAxxxx_Re_1000000\\NACA0202.txt\"\n",
      "  temp_array = np.loadtxt(file, skiprows=12)\n",
      "C:\\Users\\mtaha\\AppData\\Local\\Temp\\ipykernel_10420\\240653774.py:20: UserWarning: loadtxt: input contained no data: \"NACA4DIGIT_DATABASE\\NACAxxxx_Re_1000000\\NACA0203.txt\"\n",
      "  temp_array = np.loadtxt(file, skiprows=12)\n",
      "C:\\Users\\mtaha\\AppData\\Local\\Temp\\ipykernel_10420\\240653774.py:20: UserWarning: loadtxt: input contained no data: \"NACA4DIGIT_DATABASE\\NACAxxxx_Re_1000000\\NACA0204.txt\"\n",
      "  temp_array = np.loadtxt(file, skiprows=12)\n",
      "C:\\Users\\mtaha\\AppData\\Local\\Temp\\ipykernel_10420\\240653774.py:20: UserWarning: loadtxt: input contained no data: \"NACA4DIGIT_DATABASE\\NACAxxxx_Re_1000000\\NACA0301.txt\"\n",
      "  temp_array = np.loadtxt(file, skiprows=12)\n",
      "C:\\Users\\mtaha\\AppData\\Local\\Temp\\ipykernel_10420\\240653774.py:20: UserWarning: loadtxt: input contained no data: \"NACA4DIGIT_DATABASE\\NACAxxxx_Re_1000000\\NACA0302.txt\"\n",
      "  temp_array = np.loadtxt(file, skiprows=12)\n",
      "C:\\Users\\mtaha\\AppData\\Local\\Temp\\ipykernel_10420\\240653774.py:20: UserWarning: loadtxt: input contained no data: \"NACA4DIGIT_DATABASE\\NACAxxxx_Re_1000000\\NACA0303.txt\"\n",
      "  temp_array = np.loadtxt(file, skiprows=12)\n",
      "C:\\Users\\mtaha\\AppData\\Local\\Temp\\ipykernel_10420\\240653774.py:20: UserWarning: loadtxt: input contained no data: \"NACA4DIGIT_DATABASE\\NACAxxxx_Re_1000000\\NACA0304.txt\"\n",
      "  temp_array = np.loadtxt(file, skiprows=12)\n",
      "C:\\Users\\mtaha\\AppData\\Local\\Temp\\ipykernel_10420\\240653774.py:20: UserWarning: loadtxt: input contained no data: \"NACA4DIGIT_DATABASE\\NACAxxxx_Re_1000000\\NACA0401.txt\"\n",
      "  temp_array = np.loadtxt(file, skiprows=12)\n",
      "C:\\Users\\mtaha\\AppData\\Local\\Temp\\ipykernel_10420\\240653774.py:20: UserWarning: loadtxt: input contained no data: \"NACA4DIGIT_DATABASE\\NACAxxxx_Re_1000000\\NACA0402.txt\"\n",
      "  temp_array = np.loadtxt(file, skiprows=12)\n",
      "C:\\Users\\mtaha\\AppData\\Local\\Temp\\ipykernel_10420\\240653774.py:20: UserWarning: loadtxt: input contained no data: \"NACA4DIGIT_DATABASE\\NACAxxxx_Re_1000000\\NACA0403.txt\"\n",
      "  temp_array = np.loadtxt(file, skiprows=12)\n",
      "C:\\Users\\mtaha\\AppData\\Local\\Temp\\ipykernel_10420\\240653774.py:20: UserWarning: loadtxt: input contained no data: \"NACA4DIGIT_DATABASE\\NACAxxxx_Re_1000000\\NACA0404.txt\"\n",
      "  temp_array = np.loadtxt(file, skiprows=12)\n",
      "C:\\Users\\mtaha\\AppData\\Local\\Temp\\ipykernel_10420\\240653774.py:20: UserWarning: loadtxt: input contained no data: \"NACA4DIGIT_DATABASE\\NACAxxxx_Re_1000000\\NACA0501.txt\"\n",
      "  temp_array = np.loadtxt(file, skiprows=12)\n",
      "C:\\Users\\mtaha\\AppData\\Local\\Temp\\ipykernel_10420\\240653774.py:20: UserWarning: loadtxt: input contained no data: \"NACA4DIGIT_DATABASE\\NACAxxxx_Re_1000000\\NACA0502.txt\"\n",
      "  temp_array = np.loadtxt(file, skiprows=12)\n",
      "C:\\Users\\mtaha\\AppData\\Local\\Temp\\ipykernel_10420\\240653774.py:20: UserWarning: loadtxt: input contained no data: \"NACA4DIGIT_DATABASE\\NACAxxxx_Re_1000000\\NACA0503.txt\"\n",
      "  temp_array = np.loadtxt(file, skiprows=12)\n",
      "C:\\Users\\mtaha\\AppData\\Local\\Temp\\ipykernel_10420\\240653774.py:20: UserWarning: loadtxt: input contained no data: \"NACA4DIGIT_DATABASE\\NACAxxxx_Re_1000000\\NACA0504.txt\"\n",
      "  temp_array = np.loadtxt(file, skiprows=12)\n",
      "C:\\Users\\mtaha\\AppData\\Local\\Temp\\ipykernel_10420\\240653774.py:20: UserWarning: loadtxt: input contained no data: \"NACA4DIGIT_DATABASE\\NACAxxxx_Re_1000000\\NACA0601.txt\"\n",
      "  temp_array = np.loadtxt(file, skiprows=12)\n",
      "C:\\Users\\mtaha\\AppData\\Local\\Temp\\ipykernel_10420\\240653774.py:20: UserWarning: loadtxt: input contained no data: \"NACA4DIGIT_DATABASE\\NACAxxxx_Re_1000000\\NACA0602.txt\"\n",
      "  temp_array = np.loadtxt(file, skiprows=12)\n",
      "C:\\Users\\mtaha\\AppData\\Local\\Temp\\ipykernel_10420\\240653774.py:20: UserWarning: loadtxt: input contained no data: \"NACA4DIGIT_DATABASE\\NACAxxxx_Re_1000000\\NACA0603.txt\"\n",
      "  temp_array = np.loadtxt(file, skiprows=12)\n",
      "C:\\Users\\mtaha\\AppData\\Local\\Temp\\ipykernel_10420\\240653774.py:20: UserWarning: loadtxt: input contained no data: \"NACA4DIGIT_DATABASE\\NACAxxxx_Re_1000000\\NACA0604.txt\"\n",
      "  temp_array = np.loadtxt(file, skiprows=12)\n"
     ]
    },
    {
     "name": "stdout",
     "output_type": "stream",
     "text": [
      "1000000\n"
     ]
    },
    {
     "name": "stderr",
     "output_type": "stream",
     "text": [
      "C:\\Users\\mtaha\\AppData\\Local\\Temp\\ipykernel_10420\\240653774.py:20: UserWarning: loadtxt: input contained no data: \"NACA4DIGIT_DATABASE\\NACAxxxx_Re_1000000\\NACA0701.txt\"\n",
      "  temp_array = np.loadtxt(file, skiprows=12)\n",
      "C:\\Users\\mtaha\\AppData\\Local\\Temp\\ipykernel_10420\\240653774.py:20: UserWarning: loadtxt: input contained no data: \"NACA4DIGIT_DATABASE\\NACAxxxx_Re_1000000\\NACA0702.txt\"\n",
      "  temp_array = np.loadtxt(file, skiprows=12)\n",
      "C:\\Users\\mtaha\\AppData\\Local\\Temp\\ipykernel_10420\\240653774.py:20: UserWarning: loadtxt: input contained no data: \"NACA4DIGIT_DATABASE\\NACAxxxx_Re_1000000\\NACA0703.txt\"\n",
      "  temp_array = np.loadtxt(file, skiprows=12)\n",
      "C:\\Users\\mtaha\\AppData\\Local\\Temp\\ipykernel_10420\\240653774.py:20: UserWarning: loadtxt: input contained no data: \"NACA4DIGIT_DATABASE\\NACAxxxx_Re_1000000\\NACA0704.txt\"\n",
      "  temp_array = np.loadtxt(file, skiprows=12)\n",
      "C:\\Users\\mtaha\\AppData\\Local\\Temp\\ipykernel_10420\\240653774.py:20: UserWarning: loadtxt: input contained no data: \"NACA4DIGIT_DATABASE\\NACAxxxx_Re_1000000\\NACA0801.txt\"\n",
      "  temp_array = np.loadtxt(file, skiprows=12)\n",
      "C:\\Users\\mtaha\\AppData\\Local\\Temp\\ipykernel_10420\\240653774.py:20: UserWarning: loadtxt: input contained no data: \"NACA4DIGIT_DATABASE\\NACAxxxx_Re_1000000\\NACA0802.txt\"\n",
      "  temp_array = np.loadtxt(file, skiprows=12)\n",
      "C:\\Users\\mtaha\\AppData\\Local\\Temp\\ipykernel_10420\\240653774.py:20: UserWarning: loadtxt: input contained no data: \"NACA4DIGIT_DATABASE\\NACAxxxx_Re_1000000\\NACA0803.txt\"\n",
      "  temp_array = np.loadtxt(file, skiprows=12)\n",
      "C:\\Users\\mtaha\\AppData\\Local\\Temp\\ipykernel_10420\\240653774.py:20: UserWarning: loadtxt: input contained no data: \"NACA4DIGIT_DATABASE\\NACAxxxx_Re_1000000\\NACA0804.txt\"\n",
      "  temp_array = np.loadtxt(file, skiprows=12)\n",
      "C:\\Users\\mtaha\\AppData\\Local\\Temp\\ipykernel_10420\\240653774.py:20: UserWarning: loadtxt: input contained no data: \"NACA4DIGIT_DATABASE\\NACAxxxx_Re_1000000\\NACA0901.txt\"\n",
      "  temp_array = np.loadtxt(file, skiprows=12)\n",
      "C:\\Users\\mtaha\\AppData\\Local\\Temp\\ipykernel_10420\\240653774.py:20: UserWarning: loadtxt: input contained no data: \"NACA4DIGIT_DATABASE\\NACAxxxx_Re_1000000\\NACA0902.txt\"\n",
      "  temp_array = np.loadtxt(file, skiprows=12)\n",
      "C:\\Users\\mtaha\\AppData\\Local\\Temp\\ipykernel_10420\\240653774.py:20: UserWarning: loadtxt: input contained no data: \"NACA4DIGIT_DATABASE\\NACAxxxx_Re_1000000\\NACA0903.txt\"\n",
      "  temp_array = np.loadtxt(file, skiprows=12)\n",
      "C:\\Users\\mtaha\\AppData\\Local\\Temp\\ipykernel_10420\\240653774.py:20: UserWarning: loadtxt: input contained no data: \"NACA4DIGIT_DATABASE\\NACAxxxx_Re_1000000\\NACA0904.txt\"\n",
      "  temp_array = np.loadtxt(file, skiprows=12)\n",
      "C:\\Users\\mtaha\\AppData\\Local\\Temp\\ipykernel_10420\\240653774.py:20: UserWarning: loadtxt: input contained no data: \"NACA4DIGIT_DATABASE\\NACAxxxx_Re_1000000\\NACA1001.txt\"\n",
      "  temp_array = np.loadtxt(file, skiprows=12)\n",
      "C:\\Users\\mtaha\\AppData\\Local\\Temp\\ipykernel_10420\\240653774.py:20: UserWarning: loadtxt: input contained no data: \"NACA4DIGIT_DATABASE\\NACAxxxx_Re_1000000\\NACA1002.txt\"\n",
      "  temp_array = np.loadtxt(file, skiprows=12)\n",
      "C:\\Users\\mtaha\\AppData\\Local\\Temp\\ipykernel_10420\\240653774.py:20: UserWarning: loadtxt: input contained no data: \"NACA4DIGIT_DATABASE\\NACAxxxx_Re_1000000\\NACA1004.txt\"\n",
      "  temp_array = np.loadtxt(file, skiprows=12)\n",
      "C:\\Users\\mtaha\\AppData\\Local\\Temp\\ipykernel_10420\\240653774.py:20: UserWarning: loadtxt: input contained no data: \"NACA4DIGIT_DATABASE\\NACAxxxx_Re_1000000\\NACA1101.txt\"\n",
      "  temp_array = np.loadtxt(file, skiprows=12)\n",
      "C:\\Users\\mtaha\\AppData\\Local\\Temp\\ipykernel_10420\\240653774.py:20: UserWarning: loadtxt: input contained no data: \"NACA4DIGIT_DATABASE\\NACAxxxx_Re_1000000\\NACA1102.txt\"\n",
      "  temp_array = np.loadtxt(file, skiprows=12)\n",
      "C:\\Users\\mtaha\\AppData\\Local\\Temp\\ipykernel_10420\\240653774.py:20: UserWarning: loadtxt: input contained no data: \"NACA4DIGIT_DATABASE\\NACAxxxx_Re_1000000\\NACA1103.txt\"\n",
      "  temp_array = np.loadtxt(file, skiprows=12)\n",
      "C:\\Users\\mtaha\\AppData\\Local\\Temp\\ipykernel_10420\\240653774.py:20: UserWarning: loadtxt: input contained no data: \"NACA4DIGIT_DATABASE\\NACAxxxx_Re_1000000\\NACA1104.txt\"\n",
      "  temp_array = np.loadtxt(file, skiprows=12)\n",
      "C:\\Users\\mtaha\\AppData\\Local\\Temp\\ipykernel_10420\\240653774.py:20: UserWarning: loadtxt: input contained no data: \"NACA4DIGIT_DATABASE\\NACAxxxx_Re_1000000\\NACA1106.txt\"\n",
      "  temp_array = np.loadtxt(file, skiprows=12)\n",
      "C:\\Users\\mtaha\\AppData\\Local\\Temp\\ipykernel_10420\\240653774.py:20: UserWarning: loadtxt: input contained no data: \"NACA4DIGIT_DATABASE\\NACAxxxx_Re_1000000\\NACA1201.txt\"\n",
      "  temp_array = np.loadtxt(file, skiprows=12)\n",
      "C:\\Users\\mtaha\\AppData\\Local\\Temp\\ipykernel_10420\\240653774.py:20: UserWarning: loadtxt: input contained no data: \"NACA4DIGIT_DATABASE\\NACAxxxx_Re_1000000\\NACA1202.txt\"\n",
      "  temp_array = np.loadtxt(file, skiprows=12)\n",
      "C:\\Users\\mtaha\\AppData\\Local\\Temp\\ipykernel_10420\\240653774.py:20: UserWarning: loadtxt: input contained no data: \"NACA4DIGIT_DATABASE\\NACAxxxx_Re_1000000\\NACA1203.txt\"\n",
      "  temp_array = np.loadtxt(file, skiprows=12)\n",
      "C:\\Users\\mtaha\\AppData\\Local\\Temp\\ipykernel_10420\\240653774.py:20: UserWarning: loadtxt: input contained no data: \"NACA4DIGIT_DATABASE\\NACAxxxx_Re_1000000\\NACA4111.txt\"\n",
      "  temp_array = np.loadtxt(file, skiprows=12)\n",
      "C:\\Users\\mtaha\\AppData\\Local\\Temp\\ipykernel_10420\\240653774.py:20: UserWarning: loadtxt: input contained no data: \"NACA4DIGIT_DATABASE\\NACAxxxx_Re_1000000\\NACA4113.txt\"\n",
      "  temp_array = np.loadtxt(file, skiprows=12)\n",
      "C:\\Users\\mtaha\\AppData\\Local\\Temp\\ipykernel_10420\\240653774.py:20: UserWarning: loadtxt: input contained no data: \"NACA4DIGIT_DATABASE\\NACAxxxx_Re_1000000\\NACA5111.txt\"\n",
      "  temp_array = np.loadtxt(file, skiprows=12)\n",
      "C:\\Users\\mtaha\\AppData\\Local\\Temp\\ipykernel_10420\\240653774.py:20: UserWarning: loadtxt: input contained no data: \"NACA4DIGIT_DATABASE\\NACAxxxx_Re_1000000\\NACA5112.txt\"\n",
      "  temp_array = np.loadtxt(file, skiprows=12)\n",
      "C:\\Users\\mtaha\\AppData\\Local\\Temp\\ipykernel_10420\\240653774.py:20: UserWarning: loadtxt: input contained no data: \"NACA4DIGIT_DATABASE\\NACAxxxx_Re_1000000\\NACA6111.txt\"\n",
      "  temp_array = np.loadtxt(file, skiprows=12)\n",
      "C:\\Users\\mtaha\\AppData\\Local\\Temp\\ipykernel_10420\\240653774.py:20: UserWarning: loadtxt: input contained no data: \"NACA4DIGIT_DATABASE\\NACAxxxx_Re_1000000\\NACA6112.txt\"\n",
      "  temp_array = np.loadtxt(file, skiprows=12)\n",
      "C:\\Users\\mtaha\\AppData\\Local\\Temp\\ipykernel_10420\\240653774.py:20: UserWarning: loadtxt: input contained no data: \"NACA4DIGIT_DATABASE\\NACAxxxx_Re_1000000\\NACA6113.txt\"\n",
      "  temp_array = np.loadtxt(file, skiprows=12)\n",
      "C:\\Users\\mtaha\\AppData\\Local\\Temp\\ipykernel_10420\\240653774.py:20: UserWarning: loadtxt: input contained no data: \"NACA4DIGIT_DATABASE\\NACAxxxx_Re_1000000\\NACA6115.txt\"\n",
      "  temp_array = np.loadtxt(file, skiprows=12)\n"
     ]
    },
    {
     "name": "stdout",
     "output_type": "stream",
     "text": [
      "200000\n"
     ]
    },
    {
     "name": "stderr",
     "output_type": "stream",
     "text": [
      "C:\\Users\\mtaha\\AppData\\Local\\Temp\\ipykernel_10420\\240653774.py:20: UserWarning: loadtxt: input contained no data: \"NACA4DIGIT_DATABASE\\NACAxxxx_Re_200000\\NACA3115.txt\"\n",
      "  temp_array = np.loadtxt(file, skiprows=12)\n"
     ]
    },
    {
     "name": "stdout",
     "output_type": "stream",
     "text": [
      "300000\n",
      "400000\n",
      "500000\n",
      "600000\n"
     ]
    },
    {
     "name": "stderr",
     "output_type": "stream",
     "text": [
      "C:\\Users\\mtaha\\AppData\\Local\\Temp\\ipykernel_10420\\240653774.py:20: UserWarning: loadtxt: input contained no data: \"NACA4DIGIT_DATABASE\\NACAxxxx_Re_600000\\NACA3111.txt\"\n",
      "  temp_array = np.loadtxt(file, skiprows=12)\n",
      "C:\\Users\\mtaha\\AppData\\Local\\Temp\\ipykernel_10420\\240653774.py:20: UserWarning: loadtxt: input contained no data: \"NACA4DIGIT_DATABASE\\NACAxxxx_Re_600000\\NACA5111.txt\"\n",
      "  temp_array = np.loadtxt(file, skiprows=12)\n",
      "C:\\Users\\mtaha\\AppData\\Local\\Temp\\ipykernel_10420\\240653774.py:20: UserWarning: loadtxt: input contained no data: \"NACA4DIGIT_DATABASE\\NACAxxxx_Re_600000\\NACA5112.txt\"\n",
      "  temp_array = np.loadtxt(file, skiprows=12)\n",
      "C:\\Users\\mtaha\\AppData\\Local\\Temp\\ipykernel_10420\\240653774.py:20: UserWarning: loadtxt: input contained no data: \"NACA4DIGIT_DATABASE\\NACAxxxx_Re_600000\\NACA5113.txt\"\n",
      "  temp_array = np.loadtxt(file, skiprows=12)\n",
      "C:\\Users\\mtaha\\AppData\\Local\\Temp\\ipykernel_10420\\240653774.py:20: UserWarning: loadtxt: input contained no data: \"NACA4DIGIT_DATABASE\\NACAxxxx_Re_600000\\NACA5115.txt\"\n",
      "  temp_array = np.loadtxt(file, skiprows=12)\n",
      "C:\\Users\\mtaha\\AppData\\Local\\Temp\\ipykernel_10420\\240653774.py:20: UserWarning: loadtxt: input contained no data: \"NACA4DIGIT_DATABASE\\NACAxxxx_Re_600000\\NACA6113.txt\"\n",
      "  temp_array = np.loadtxt(file, skiprows=12)\n",
      "C:\\Users\\mtaha\\AppData\\Local\\Temp\\ipykernel_10420\\240653774.py:20: UserWarning: loadtxt: input contained no data: \"NACA4DIGIT_DATABASE\\NACAxxxx_Re_600000\\NACA6211.txt\"\n",
      "  temp_array = np.loadtxt(file, skiprows=12)\n",
      "C:\\Users\\mtaha\\AppData\\Local\\Temp\\ipykernel_10420\\240653774.py:20: UserWarning: loadtxt: input contained no data: \"NACA4DIGIT_DATABASE\\NACAxxxx_Re_600000\\NACA6711.txt\"\n",
      "  temp_array = np.loadtxt(file, skiprows=12)\n",
      "C:\\Users\\mtaha\\AppData\\Local\\Temp\\ipykernel_10420\\240653774.py:20: UserWarning: loadtxt: input contained no data: \"NACA4DIGIT_DATABASE\\NACAxxxx_Re_600000\\NACA6716.txt\"\n",
      "  temp_array = np.loadtxt(file, skiprows=12)\n"
     ]
    },
    {
     "name": "stdout",
     "output_type": "stream",
     "text": [
      "700000\n"
     ]
    },
    {
     "name": "stderr",
     "output_type": "stream",
     "text": [
      "C:\\Users\\mtaha\\AppData\\Local\\Temp\\ipykernel_10420\\240653774.py:20: UserWarning: loadtxt: input contained no data: \"NACA4DIGIT_DATABASE\\NACAxxxx_Re_700000\\NACA5111.txt\"\n",
      "  temp_array = np.loadtxt(file, skiprows=12)\n",
      "C:\\Users\\mtaha\\AppData\\Local\\Temp\\ipykernel_10420\\240653774.py:20: UserWarning: loadtxt: input contained no data: \"NACA4DIGIT_DATABASE\\NACAxxxx_Re_700000\\NACA6112.txt\"\n",
      "  temp_array = np.loadtxt(file, skiprows=12)\n",
      "C:\\Users\\mtaha\\AppData\\Local\\Temp\\ipykernel_10420\\240653774.py:20: UserWarning: loadtxt: input contained no data: \"NACA4DIGIT_DATABASE\\NACAxxxx_Re_700000\\NACA6114.txt\"\n",
      "  temp_array = np.loadtxt(file, skiprows=12)\n",
      "C:\\Users\\mtaha\\AppData\\Local\\Temp\\ipykernel_10420\\240653774.py:20: UserWarning: loadtxt: input contained no data: \"NACA4DIGIT_DATABASE\\NACAxxxx_Re_700000\\NACA6116.txt\"\n",
      "  temp_array = np.loadtxt(file, skiprows=12)\n"
     ]
    }
   ],
   "source": [
    "# Code imports the airfoil data from the Re_1000000 folder\n",
    "import  numpy  as  np\n",
    "import glob\n",
    "import os\n",
    "\n",
    "# Importing the data\n",
    "path =  'NACA4DIGIT_DATABASE'\n",
    "folders = glob.glob(os.path.join(path, '*'))\n",
    "\n",
    "CD_matrix = np.zeros((0, 1))\n",
    "x_matrix = np.zeros((0, 5))\n",
    "\n",
    "\n",
    "for folder in folders:\n",
    "    files = glob.glob(os.path.join(folder, '*.txt'))\n",
    "    RE = folder[32:]\n",
    "    \n",
    "    for file in files:\n",
    "\n",
    "        temp_array = np.loadtxt(file, skiprows=12)\n",
    "        if ((temp_array.ndim == 2) and (np.isnan(temp_array).any() == False)):\n",
    "            data_len = np.shape(temp_array)[0]\n",
    "\n",
    "            NAME = file[-8:-4]\n",
    "            first_param = NAME[0]\n",
    "            second_param = NAME[1]\n",
    "            third_param = NAME[2:]\n",
    "            alpha = temp_array[:, 0]\n",
    "            \n",
    "            x = np.zeros((data_len, 5))\n",
    "            \n",
    "            x[:, 0] = first_param\n",
    "            x[:, 1] = second_param\n",
    "            x[:, 2] = third_param\n",
    "            x[:, 3] = alpha\n",
    "            x[:, 4] = RE\n",
    "\n",
    "            CD = temp_array[:, 2].reshape((data_len, 1))\n",
    "            \n",
    "            x_matrix = np.vstack((x_matrix, x))\n",
    "            CD_matrix = np.vstack((CD_matrix, CD))\n",
    "    print(RE)\n",
    "            \n",
    "np.savetxt('x_matrix.txt', x_matrix)\n",
    "np.savetxt('CD_matrix.txt', CD_matrix)\n"
   ]
  }
 ],
 "metadata": {
  "kernelspec": {
   "display_name": "base",
   "language": "python",
   "name": "python3"
  },
  "language_info": {
   "codemirror_mode": {
    "name": "ipython",
    "version": 3
   },
   "file_extension": ".py",
   "mimetype": "text/x-python",
   "name": "python",
   "nbconvert_exporter": "python",
   "pygments_lexer": "ipython3",
   "version": "3.9.13"
  },
  "orig_nbformat": 4
 },
 "nbformat": 4,
 "nbformat_minor": 2
}

{
 "cells": [
  {
   "cell_type": "code",
   "execution_count": null,
   "metadata": {},
   "outputs": [],
   "source": [
    "from dataextract import readairfoil\n",
    "from dataplotter import plotairfoil, compare_airfoils\n",
    "import os\n",
    "import numpy as np\n",
    "from classifier_objects import Airfoil\n",
    "import pickle\n",
    "\n",
    "#Let this reading part opened while exe is started. So that, the datas will be ready to be used. \n",
    "data_path = '../data/train_data/NACAxxxx_Re_1000000'\n",
    "save_path = '../data/train_data/NACAxxxx_Re_1000000_pkl/' \n",
    "\n",
    "airfoildata = readairfoil(data_path, save_path)\n",
    "\n",
    "\n",
    "# airfoil_names = os.listdir(data_path)\n",
    "\n",
    "\n",
    "\"\"\"\n",
    "#The user should specify the range of lift coeff for range of alpha. The program will sort it for whole airfoil datas. ,\n",
    "clcoeff_min = 1.1\n",
    "alpha_range = [4, 7]\n",
    "dCl_min = 0.10\n",
    "cdcoeff_max = 0.11\n",
    "clcd = 0.5\n",
    "\n",
    "\n",
    "#It is written w.r.t xfoil output. Our VM should arrange this in better manner. \n",
    "max_index_finder = airfoildata[airfoil_names[12]][\"AOA\"] <= alpha_range[1]\n",
    "min_index_finder = airfoildata[airfoil_names[12]][\"AOA\"] >= alpha_range[0]\n",
    "index_finder = max_index_finder & min_index_finder\n",
    "index_search = np.where(index_finder)[0]\n",
    "\n",
    "# print(index_search)\n",
    "condition_satisfied_airfoils_names = []\n",
    "\n",
    "#The program will sort the airfoil datas for the range of lift coeff.\n",
    "for airfoil_name in airfoil_names:\n",
    "    if airfoildata[str(airfoil_name)][\"data_available\"] == True:\n",
    "        clcoeff_max = airfoildata[str(airfoil_name)][\"Cl\"][index_search].max()\n",
    "        dclcoeff_min = airfoildata[str(airfoil_name)][\"dCl\"][index_search].min()\n",
    "        if clcoeff_max >= clcoeff_min and dclcoeff_min >= dCl_min:\n",
    "            condition_satisfied_airfoils_names.append(airfoil_name)\n",
    "    \n",
    "\n",
    "print(condition_satisfied_airfoils_names)\n",
    "\n",
    "\n",
    "#plotairfoil(airfoildata['NACA0012'])\n",
    "#compare_airfoils(airfoildata['NACA0012'], airfoildata['NACA2423'])\n",
    "\"\"\""
   ]
  },
  {
   "cell_type": "code",
   "execution_count": null,
   "metadata": {},
   "outputs": [],
   "source": [
    "with open('../data/train_data/NACAxxxx_Re_1000000_pkl/NACA0101.pkl', 'rb') as f:\n",
    "    airfoil = pickle.load(f)\n",
    "    print(airfoil.name)\n",
    "    print(airfoil.polars[1000000][:, 0])\n",
    "    print(airfoil.data_available)"
   ]
  },
  {
   "cell_type": "code",
   "execution_count": 7,
   "metadata": {},
   "outputs": [
    {
     "name": "stdout",
     "output_type": "stream",
     "text": [
      "NACA6511\n",
      "NACA6611\n",
      "NACA6612\n",
      "NACA6613\n",
      "NACA6616\n",
      "NACA6711\n",
      "NACA6712\n"
     ]
    }
   ],
   "source": [
    "from dataextract import readairfoil\n",
    "from dataplotter import plotairfoil, compare_airfoils\n",
    "import os\n",
    "import numpy as np\n",
    "from classifier_objects import Airfoil\n",
    "import pickle\n",
    "from seach_foil import search_foil\n",
    "\n",
    "#Let this reading part opened while exe is started. So that, the datas will be ready to be used.\n",
    "data_path = '../data/train_data/'\n",
    "\n",
    "clcoeff_min = 1.1\n",
    "alpha_range = [4, 7]\n",
    "dCl_min = 0.10\n",
    "cdcoeff_max = 0.11\n",
    "clcd = [0.5]\n",
    "\n",
    "# airfoils = search_foil(1000000, alpha_range, data_path, clcoeff_min, cdcoeff_max, clcd, dCl_min)\n",
    "airfoils = search_foil(1000000, alpha_range, data_path, Cl=1.25, Cd=0.02, ClCd_range=[0.6, 0.7])\n",
    "for i in airfoils:\n",
    "    print(i.name)\n",
    "\n"
   ]
  }
 ],
 "metadata": {
  "kernelspec": {
   "display_name": "Python 3",
   "language": "python",
   "name": "python3"
  },
  "language_info": {
   "codemirror_mode": {
    "name": "ipython",
    "version": 3
   },
   "file_extension": ".py",
   "mimetype": "text/x-python",
   "name": "python",
   "nbconvert_exporter": "python",
   "pygments_lexer": "ipython3",
   "version": "3.10.6"
  },
  "orig_nbformat": 4
 },
 "nbformat": 4,
 "nbformat_minor": 2
}

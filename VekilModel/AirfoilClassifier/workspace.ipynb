{
 "cells": [
  {
   "cell_type": "code",
   "execution_count": null,
   "metadata": {},
   "outputs": [],
   "source": [
    "from dataextract import readairfoil\n",
    "from dataplotter import plotairfoil, compare_airfoils\n",
    "import os\n",
    "import numpy as np\n",
    "\n",
    "\n",
    "data_path = '../NACAxxxx_Re_1000000'\n",
    "airfoildata = readairfoil(data_path)\n",
    "airfoil_names = os.listdir(data_path)\n",
    "airfoil_names = [name.split('.')[0] for name in airfoil_names]\n",
    "\n",
    "#The user should specify the range of lift coeff for range of alpha. The program will sort it for whole airfoil datas. ,\n",
    "clcoeff_min = 1.1\n",
    "alpha_range = [4, 7]\n",
    "dCl_min = 0.10\n",
    "\n",
    "\n",
    "max_index_finder = airfoildata[airfoil_names[12]][\"AOA\"] <= alpha_range[1]\n",
    "min_index_finder = airfoildata[airfoil_names[12]][\"AOA\"] >= alpha_range[0]\n",
    "index_finder = max_index_finder & min_index_finder\n",
    "index_search = np.where(index_finder)[0]\n",
    "\n",
    "print(index_search)\n",
    "condition_satisfied_airfoils_names = []\n",
    "\n",
    "#The program will sort the airfoil datas for the range of lift coeff.\n",
    "for airfoil_name in airfoil_names:\n",
    "    if airfoildata[str(airfoil_name)][\"data_available\"] == True:\n",
    "        clcoeff_max = airfoildata[str(airfoil_name)][\"Cl\"][index_search].max()\n",
    "        dclcoeff_min = airfoildata[str(airfoil_name)][\"dCl\"][index_search].min()\n",
    "        if clcoeff_max >= clcoeff_min and dclcoeff_min >= dCl_min:\n",
    "            condition_satisfied_airfoils_names.append(airfoil_name)\n",
    "    \n",
    "\n",
    "print(condition_satisfied_airfoils_names)\n",
    "\n",
    "\n",
    "plotairfoil(airfoildata['NACA0012'])\n",
    "compare_airfoils(airfoildata['NACA0012'], airfoildata['NACA2423'])\n"
   ]
  }
 ],
 "metadata": {
  "kernelspec": {
   "display_name": "Python 3",
   "language": "python",
   "name": "python3"
  },
  "language_info": {
   "codemirror_mode": {
    "name": "ipython",
    "version": 3
   },
   "file_extension": ".py",
   "mimetype": "text/x-python",
   "name": "python",
   "nbconvert_exporter": "python",
   "pygments_lexer": "ipython3",
   "version": "3.10.6"
  },
  "orig_nbformat": 4
 },
 "nbformat": 4,
 "nbformat_minor": 2
}

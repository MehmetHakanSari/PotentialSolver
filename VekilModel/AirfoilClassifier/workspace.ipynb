{
 "cells": [
  {
   "cell_type": "code",
   "execution_count": 1,
   "metadata": {},
   "outputs": [
    {
     "data": {
      "text/plain": [
       "'\\n#The user should specify the range of lift coeff for range of alpha. The program will sort it for whole airfoil datas. ,\\nclcoeff_min = 1.1\\nalpha_range = [4, 7]\\ndCl_min = 0.10\\ncdcoeff_max = 0.11\\nclcd = 0.5\\n\\n\\n#It is written w.r.t xfoil output. Our VM should arrange this in better manner. \\nmax_index_finder = airfoildata[airfoil_names[12]][\"AOA\"] <= alpha_range[1]\\nmin_index_finder = airfoildata[airfoil_names[12]][\"AOA\"] >= alpha_range[0]\\nindex_finder = max_index_finder & min_index_finder\\nindex_search = np.where(index_finder)[0]\\n\\n# print(index_search)\\ncondition_satisfied_airfoils_names = []\\n\\n#The program will sort the airfoil datas for the range of lift coeff.\\nfor airfoil_name in airfoil_names:\\n    if airfoildata[str(airfoil_name)][\"data_available\"] == True:\\n        clcoeff_max = airfoildata[str(airfoil_name)][\"Cl\"][index_search].max()\\n        dclcoeff_min = airfoildata[str(airfoil_name)][\"dCl\"][index_search].min()\\n        if clcoeff_max >= clcoeff_min and dclcoeff_min >= dCl_min:\\n            condition_satisfied_airfoils_names.append(airfoil_name)\\n    \\n\\nprint(condition_satisfied_airfoils_names)\\n\\n\\n#plotairfoil(airfoildata[\\'NACA0012\\'])\\n#compare_airfoils(airfoildata[\\'NACA0012\\'], airfoildata[\\'NACA2423\\'])\\n'"
      ]
     },
     "execution_count": 1,
     "metadata": {},
     "output_type": "execute_result"
    }
   ],
   "source": [
    "from dataextract import readairfoil\n",
    "from dataplotter import plotairfoil, compare_airfoils\n",
    "import os\n",
    "import numpy as np\n",
    "from classifier_objects import Airfoil\n",
    "import pickle\n",
    "\n",
    "#Let this reading part opened while exe is started. So that, the datas will be ready to be used. \n",
    "data_path = '../NACAxxxx_Re_1000000'\n",
    "save_path = '../NACAxxxx_Re_1000000_pkl/' \n",
    "\n",
    "# if not os.path.exists(save_path):\n",
    "#     os.makedirs(save_path)\n",
    "\n",
    "airfoildata = readairfoil(data_path, save_path)\n",
    "# airfoil_names = os.listdir(data_path)\n",
    "\n",
    "\"\"\"for name in airfoil_names:\n",
    "    airfoil = Airfoil(name=name.split('.')[0])\n",
    "    polar_matrix = np.zeros((len(airfoildata[name]['AOA']), 7))\n",
    "    #find reynolds from the data_path name\n",
    "    Re = int(data_path.split('_')[-1])\n",
    "    polar_matrix[:, 0] = airfoildata[name]['AOA'] \n",
    "    \n",
    "    polar_dict[Re] = \n",
    "    \n",
    "    with open(save_path + airfoil.name + \".pkl\" , 'wb') as f:\n",
    "        pickle.dump(airfoil, f)\n",
    "        break\"\"\"\n",
    "\n",
    "    \n",
    "\n",
    "\"\"\"\n",
    "#The user should specify the range of lift coeff for range of alpha. The program will sort it for whole airfoil datas. ,\n",
    "clcoeff_min = 1.1\n",
    "alpha_range = [4, 7]\n",
    "dCl_min = 0.10\n",
    "cdcoeff_max = 0.11\n",
    "clcd = 0.5\n",
    "\n",
    "\n",
    "#It is written w.r.t xfoil output. Our VM should arrange this in better manner. \n",
    "max_index_finder = airfoildata[airfoil_names[12]][\"AOA\"] <= alpha_range[1]\n",
    "min_index_finder = airfoildata[airfoil_names[12]][\"AOA\"] >= alpha_range[0]\n",
    "index_finder = max_index_finder & min_index_finder\n",
    "index_search = np.where(index_finder)[0]\n",
    "\n",
    "# print(index_search)\n",
    "condition_satisfied_airfoils_names = []\n",
    "\n",
    "#The program will sort the airfoil datas for the range of lift coeff.\n",
    "for airfoil_name in airfoil_names:\n",
    "    if airfoildata[str(airfoil_name)][\"data_available\"] == True:\n",
    "        clcoeff_max = airfoildata[str(airfoil_name)][\"Cl\"][index_search].max()\n",
    "        dclcoeff_min = airfoildata[str(airfoil_name)][\"dCl\"][index_search].min()\n",
    "        if clcoeff_max >= clcoeff_min and dclcoeff_min >= dCl_min:\n",
    "            condition_satisfied_airfoils_names.append(airfoil_name)\n",
    "    \n",
    "\n",
    "print(condition_satisfied_airfoils_names)\n",
    "\n",
    "\n",
    "#plotairfoil(airfoildata['NACA0012'])\n",
    "#compare_airfoils(airfoildata['NACA0012'], airfoildata['NACA2423'])\n",
    "\"\"\""
   ]
  },
  {
   "cell_type": "code",
   "execution_count": 3,
   "metadata": {},
   "outputs": [
    {
     "name": "stdout",
     "output_type": "stream",
     "text": [
      "NACA0008\n",
      "[-5. -4. -3. -2. -1.  0.  1.  2.  3.  4.  5.  6.  7.  8.  9. 10. 11. 12.\n",
      " 15.]\n"
     ]
    }
   ],
   "source": [
    "with open('../NACAxxxx_Re_1000000_pkl/NACA2328.pkl', 'rb') as f:\n",
    "    airfoil = pickle.load(f)\n",
    "    print(airfoil.name)\n",
    "    print(airfoil.polars[1000000][:, 0])"
   ]
  }
 ],
 "metadata": {
  "kernelspec": {
   "display_name": "Python 3",
   "language": "python",
   "name": "python3"
  },
  "language_info": {
   "codemirror_mode": {
    "name": "ipython",
    "version": 3
   },
   "file_extension": ".py",
   "mimetype": "text/x-python",
   "name": "python",
   "nbconvert_exporter": "python",
   "pygments_lexer": "ipython3",
   "version": "3.10.6"
  },
  "orig_nbformat": 4
 },
 "nbformat": 4,
 "nbformat_minor": 2
}

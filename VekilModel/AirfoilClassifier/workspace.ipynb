{
 "cells": [
  {
   "cell_type": "code",
   "execution_count": 2,
   "metadata": {},
   "outputs": [
    {
     "ename": "NameError",
     "evalue": "The given airfoilname is not found",
     "output_type": "error",
     "traceback": [
      "\u001b[0;31m---------------------------------------------------------------------------\u001b[0m",
      "\u001b[0;31mNameError\u001b[0m                                 Traceback (most recent call last)",
      "\u001b[1;32m/mnt/c/Users/SARI/NADAS_codes/VekilModel/AirfoilClassifier/workspace.ipynb Cell 1\u001b[0m in \u001b[0;36m3\n\u001b[1;32m     <a href='vscode-notebook-cell://wsl%2Bubuntu/mnt/c/Users/SARI/NADAS_codes/VekilModel/AirfoilClassifier/workspace.ipynb#W0sdnNjb2RlLXJlbW90ZQ%3D%3D?line=34'>35</a>\u001b[0m             condition_satisfied_airfoils_names\u001b[39m.\u001b[39mappend(airfoil_name)\n\u001b[1;32m     <a href='vscode-notebook-cell://wsl%2Bubuntu/mnt/c/Users/SARI/NADAS_codes/VekilModel/AirfoilClassifier/workspace.ipynb#W0sdnNjb2RlLXJlbW90ZQ%3D%3D?line=35'>36</a>\u001b[0m     \u001b[39melse\u001b[39;00m:\n\u001b[0;32m---> <a href='vscode-notebook-cell://wsl%2Bubuntu/mnt/c/Users/SARI/NADAS_codes/VekilModel/AirfoilClassifier/workspace.ipynb#W0sdnNjb2RlLXJlbW90ZQ%3D%3D?line=36'>37</a>\u001b[0m         \u001b[39mraise\u001b[39;00m \u001b[39mNameError\u001b[39;00m(\u001b[39m\"\u001b[39m\u001b[39mThe given airfoilname is not found\u001b[39m\u001b[39m\"\u001b[39m)\n\u001b[1;32m     <a href='vscode-notebook-cell://wsl%2Bubuntu/mnt/c/Users/SARI/NADAS_codes/VekilModel/AirfoilClassifier/workspace.ipynb#W0sdnNjb2RlLXJlbW90ZQ%3D%3D?line=39'>40</a>\u001b[0m \u001b[39mprint\u001b[39m(condition_satisfied_airfoils_names)\n",
      "\u001b[0;31mNameError\u001b[0m: The given airfoilname is not found"
     ]
    }
   ],
   "source": [
    "from dataextract import readairfoil\n",
    "from dataplotter import plotairfoil, compare_airfoils\n",
    "import os\n",
    "import numpy as np\n",
    "\n",
    "#Let this reading part opened while exe is started. So that, the datas will be ready to be used. \n",
    "data_path = '../NACAxxxx_Re_1000000'\n",
    "airfoildata = readairfoil(data_path)\n",
    "airfoil_names = os.listdir(data_path)\n",
    "airfoil_names = [name.split('.')[0] for name in airfoil_names]\n",
    "\n",
    "#The user should specify the range of lift coeff for range of alpha. The program will sort it for whole airfoil datas. ,\n",
    "clcoeff_min = 1.1\n",
    "alpha_range = [4, 7]\n",
    "dCl_min = 0.10\n",
    "cdcoeff_max = 0.11\n",
    "clcd = 0.5\n",
    "\n",
    "\n",
    "#It is written w.r.t xfoil output. Our VM should arrange this in better manner. \n",
    "max_index_finder = airfoildata[airfoil_names[12]][\"AOA\"] <= alpha_range[1]\n",
    "min_index_finder = airfoildata[airfoil_names[12]][\"AOA\"] >= alpha_range[0]\n",
    "index_finder = max_index_finder & min_index_finder\n",
    "index_search = np.where(index_finder)[0]\n",
    "\n",
    "# print(index_search)\n",
    "condition_satisfied_airfoils_names = []\n",
    "\n",
    "#The program will sort the airfoil datas for the range of lift coeff.\n",
    "for airfoil_name in airfoil_names:\n",
    "    if airfoildata[str(airfoil_name)][\"data_available\"] == True:\n",
    "        clcoeff_max = airfoildata[str(airfoil_name)][\"Cl\"][index_search].max()\n",
    "        dclcoeff_min = airfoildata[str(airfoil_name)][\"dCl\"][index_search].min()\n",
    "        if clcoeff_max >= clcoeff_min and dclcoeff_min >= dCl_min:\n",
    "            condition_satisfied_airfoils_names.append(airfoil_name)\n",
    "    \n",
    "\n",
    "print(condition_satisfied_airfoils_names)\n",
    "\n",
    "\n",
    "#plotairfoil(airfoildata['NACA0012'])\n",
    "#compare_airfoils(airfoildata['NACA0012'], airfoildata['NACA2423'])\n"
   ]
  }
 ],
 "metadata": {
  "kernelspec": {
   "display_name": "Python 3",
   "language": "python",
   "name": "python3"
  },
  "language_info": {
   "codemirror_mode": {
    "name": "ipython",
    "version": 3
   },
   "file_extension": ".py",
   "mimetype": "text/x-python",
   "name": "python",
   "nbconvert_exporter": "python",
   "pygments_lexer": "ipython3",
   "version": "3.10.6"
  },
  "orig_nbformat": 4
 },
 "nbformat": 4,
 "nbformat_minor": 2
}

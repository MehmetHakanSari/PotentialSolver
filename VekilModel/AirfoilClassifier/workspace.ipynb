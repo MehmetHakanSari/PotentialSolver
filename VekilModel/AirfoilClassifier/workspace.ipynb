{
 "cells": [
  {
   "cell_type": "code",
   "execution_count": null,
   "metadata": {},
   "outputs": [],
   "source": [
    "from dataextract import readairfoil\n",
    "from dataplotter import plotairfoil, compare_airfoils\n",
    "import os\n",
    "import numpy as np\n",
    "from classifier_objects import Airfoil\n",
    "import pickle\n",
    "\n",
    "#Let this reading part opened while exe is started. So that, the datas will be ready to be used. \n",
    "data_path = '../data/train_data/NACAxxxx_Re_1000000'\n",
    "save_path = '../data/train_data/NACAxxxx_Re_1000000_pkl/' \n",
    "\n",
    "airfoildata = readairfoil(data_path, save_path)\n",
    "\n",
    "\n",
    "# airfoil_names = os.listdir(data_path)\n",
    "\n",
    "\n",
    "\"\"\"\n",
    "#The user should specify the range of lift coeff for range of alpha. The program will sort it for whole airfoil datas. ,\n",
    "clcoeff_min = 1.1\n",
    "alpha_range = [4, 7]\n",
    "dCl_min = 0.10\n",
    "cdcoeff_max = 0.11\n",
    "clcd = 0.5\n",
    "\n",
    "\n",
    "#It is written w.r.t xfoil output. Our VM should arrange this in better manner. \n",
    "max_index_finder = airfoildata[airfoil_names[12]][\"AOA\"] <= alpha_range[1]\n",
    "min_index_finder = airfoildata[airfoil_names[12]][\"AOA\"] >= alpha_range[0]\n",
    "index_finder = max_index_finder & min_index_finder\n",
    "index_search = np.where(index_finder)[0]\n",
    "\n",
    "# print(index_search)\n",
    "condition_satisfied_airfoils_names = []\n",
    "\n",
    "#The program will sort the airfoil datas for the range of lift coeff.\n",
    "for airfoil_name in airfoil_names:\n",
    "    if airfoildata[str(airfoil_name)][\"data_available\"] == True:\n",
    "        clcoeff_max = airfoildata[str(airfoil_name)][\"Cl\"][index_search].max()\n",
    "        dclcoeff_min = airfoildata[str(airfoil_name)][\"dCl\"][index_search].min()\n",
    "        if clcoeff_max >= clcoeff_min and dclcoeff_min >= dCl_min:\n",
    "            condition_satisfied_airfoils_names.append(airfoil_name)\n",
    "    \n",
    "\n",
    "print(condition_satisfied_airfoils_names)\n",
    "\n",
    "\n",
    "#plotairfoil(airfoildata['NACA0012'])\n",
    "#compare_airfoils(airfoildata['NACA0012'], airfoildata['NACA2423'])\n",
    "\"\"\""
   ]
  },
  {
   "cell_type": "code",
   "execution_count": null,
   "metadata": {},
   "outputs": [],
   "source": [
    "with open('../data/train_data/NACAxxxx_Re_1000000_pkl/NACA0101.pkl', 'rb') as f:\n",
    "    airfoil = pickle.load(f)\n",
    "    print(airfoil.name)\n",
    "    print(airfoil.polars[1000000][:, 0])\n",
    "    print(airfoil.data_available)"
   ]
  },
  {
   "cell_type": "code",
   "execution_count": 1,
   "metadata": {},
   "outputs": [
    {
     "ename": "ImportError",
     "evalue": "cannot import name 'plotairfoil' from 'dataplotter' (/mnt/c/Users/SARI/NADAS_codes/VekilModel/AirfoilClassifier/dataplotter.py)",
     "output_type": "error",
     "traceback": [
      "\u001b[0;31m---------------------------------------------------------------------------\u001b[0m",
      "\u001b[0;31mImportError\u001b[0m                               Traceback (most recent call last)",
      "\u001b[1;32m/mnt/c/Users/SARI/NADAS_codes/VekilModel/AirfoilClassifier/workspace.ipynb Cell 3\u001b[0m in \u001b[0;36m2\n\u001b[1;32m      <a href='vscode-notebook-cell://wsl%2Bubuntu/mnt/c/Users/SARI/NADAS_codes/VekilModel/AirfoilClassifier/workspace.ipynb#W2sdnNjb2RlLXJlbW90ZQ%3D%3D?line=0'>1</a>\u001b[0m \u001b[39mfrom\u001b[39;00m \u001b[39mdataextract\u001b[39;00m \u001b[39mimport\u001b[39;00m readairfoil\n\u001b[0;32m----> <a href='vscode-notebook-cell://wsl%2Bubuntu/mnt/c/Users/SARI/NADAS_codes/VekilModel/AirfoilClassifier/workspace.ipynb#W2sdnNjb2RlLXJlbW90ZQ%3D%3D?line=1'>2</a>\u001b[0m \u001b[39mfrom\u001b[39;00m \u001b[39mdataplotter\u001b[39;00m \u001b[39mimport\u001b[39;00m plotairfoil, compare_airfoils, geometry_plotter\n\u001b[1;32m      <a href='vscode-notebook-cell://wsl%2Bubuntu/mnt/c/Users/SARI/NADAS_codes/VekilModel/AirfoilClassifier/workspace.ipynb#W2sdnNjb2RlLXJlbW90ZQ%3D%3D?line=2'>3</a>\u001b[0m \u001b[39mimport\u001b[39;00m \u001b[39mos\u001b[39;00m\n\u001b[1;32m      <a href='vscode-notebook-cell://wsl%2Bubuntu/mnt/c/Users/SARI/NADAS_codes/VekilModel/AirfoilClassifier/workspace.ipynb#W2sdnNjb2RlLXJlbW90ZQ%3D%3D?line=3'>4</a>\u001b[0m \u001b[39mimport\u001b[39;00m \u001b[39mnumpy\u001b[39;00m \u001b[39mas\u001b[39;00m \u001b[39mnp\u001b[39;00m\n",
      "\u001b[0;31mImportError\u001b[0m: cannot import name 'plotairfoil' from 'dataplotter' (/mnt/c/Users/SARI/NADAS_codes/VekilModel/AirfoilClassifier/dataplotter.py)"
     ]
    }
   ],
   "source": [
    "from dataextract import readairfoil\n",
    "from dataplotter import plot_polars, compare_airfoils, geometry_plotter\n",
    "import os\n",
    "import numpy as np\n",
    "from classifier_objects import Airfoil\n",
    "import pickle\n",
    "from seach_foil import search_foil\n",
    "\n",
    "\n",
    "#Let this reading part opened while exe is started. So that, the datas will be ready to be used.\n",
    "data_path = '../data/train_data/'\n",
    "\n",
    "clcoeff_min = 1.1\n",
    "alpha_range = [5, 9]\n",
    "dCl_min = 0.10\n",
    "cdcoeff_max = 0.11\n",
    "clcd = [0.5]\n",
    "# , \n",
    "# airfoils = search_foil(1000000, alpha_range, data_path, clcoeff_min, cdcoeff_max, clcd, dCl_min)\n",
    "airfoils = search_foil(1000000, alpha_range, data_path, Cl=1.4, Cd=0.2, dClda_range=[0, 0.2])\n",
    "for i in airfoils:\n",
    "    print(i.name)\n",
    "\n",
    "i.plot_polars(1000000, \"lift\", \"drag\", \"liftdrag\")\n",
    "\n",
    "i.NACA_geometry_generator()\n",
    "i.plot_geometry(alpha_range)\n"
   ]
  }
 ],
 "metadata": {
  "kernelspec": {
   "display_name": "Python 3",
   "language": "python",
   "name": "python3"
  },
  "language_info": {
   "codemirror_mode": {
    "name": "ipython",
    "version": 3
   },
   "file_extension": ".py",
   "mimetype": "text/x-python",
   "name": "python",
   "nbconvert_exporter": "python",
   "pygments_lexer": "ipython3",
   "version": "3.10.6"
  },
  "orig_nbformat": 4
 },
 "nbformat": 4,
 "nbformat_minor": 2
}

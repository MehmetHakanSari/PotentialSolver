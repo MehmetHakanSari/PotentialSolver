{
 "cells": [
  {
   "cell_type": "code",
   "execution_count": 1,
   "metadata": {},
   "outputs": [
    {
     "data": {
      "image/png": "[encoded data removed]",
      "text/plain": [
       "<Figure size 640x480 with 1 Axes>"
      ]
     },
     "metadata": {},
     "output_type": "display_data"
    },
    {
     "data": {
      "image/png": "[encoded data removed]",
      "text/plain": [
       "<Figure size 640x480 with 1 Axes>"
      ]
     },
     "metadata": {},
     "output_type": "display_data"
    }
   ],
   "source": [
    "#%matplotlib notebook\n",
    "import sympy as sy\n",
    "import matplotlib.pyplot as plt\n",
    "from mpl_toolkits.mplot3d import Axes3D\n",
    "from mpl_toolkits.axes_grid1 import make_axes_locatable\n",
    "from matplotlib import cm\n",
    "import numpy as np\n",
    "from Domain import Mesh\n",
    "from Domain import PDE_2D_Solver\n",
    "from Differentials import *\n",
    "\n",
    "\n",
    "x, y = sy.symbols('x y')\n",
    "\n",
    "Ux = 1\n",
    "qs = 1\n",
    "\n",
    "N = 20\n",
    "# Define the potensial function\n",
    "phi = Ux*x + qs/(2*np.pi)*sy.log(x**2 + y**2)  #Potensial should be found by gridding. \n",
    "\n",
    "# Define the velocity components\n",
    "u = sy.diff(phi, x)\n",
    "v = sy.diff(phi, y)\n",
    "\n",
    "u_fun = sy.lambdify([x,y], u)\n",
    "v_fun = sy.lambdify([x,y], v)\n",
    "\n",
    "# Mesh Properties \n",
    "x_list = np.linspace(-1, 1, N)\n",
    "y_list = np.linspace(-1, 1, N)\n",
    "\n",
    "X, Y = np.meshgrid(x_list, y_list)\n",
    "\n",
    "u_num = u_fun(X,Y)\n",
    "v_num = v_fun(X,Y)\n",
    "\n",
    "z = X * np.exp(-X/2 - Y**2)\n",
    "dx, dy = np.gradient(z)\n",
    "n = -2\n",
    "color = np.sqrt(((dx-n)/2)*2 + ((dy-n)/2)*2)\n",
    "\n",
    "# print(phi)\n",
    "# print(u)\n",
    "# print(u_fun)\n",
    "# print(u_fun(x_list,y_list))\n",
    "# print(X)\n",
    "\n",
    "# plt.figure(1)\n",
    "# plt.quiver(X, Y, u_num, v_num, color)\n",
    "# plt.streamplot(X, Y, u_num, v_num, density=[1, 0.4])\n",
    "# plt.streamplot(X, Y, u_num, v_num, color=v_num, linewidth=2, cmap='autumn')\n",
    "# plt.show()\n",
    "\n",
    "# fig, mesh_ax = plt.subplots()\n",
    "\n",
    "# plt.\n",
    "\n",
    "# mesh_ax.pcolormesh(X,Y,np.zeros((N,N)),vmin=-0.5, vmax=1.0, edgecolors=\"black\")\n",
    "\n",
    "# plt.show()\n",
    "\n",
    "\n",
    "block_coordinates = [(0,0),(0,5),(5,5),(5,0)]\n",
    "# print(list(block_coordinates[3]))\n",
    "node_numbers = [50, 50]\n",
    "\n",
    "space = Mesh(block_coordinates, node_numbers) #it seems like a one block. Build more sopisticated block type structures\n",
    "# space.nonuniform_block_mesh_2D(-1.2, -1.4)\n",
    "# space.nonuniform_mesh_2D(-1.2, -1.4)\n",
    "a, b = space.nonuniform_block_mesh_2D(1.2, 1)\n",
    "\n",
    "# print(space.matricies[0])\n",
    "# print(space.matricies[1])\n",
    "\n",
    "BCs = {'W': 'N', 'S': 'D', 'E': 'D', 'N': 'N'}\n",
    "BCs_values = {'W': 1, 'S': 0.5, 'E': -0.2, 'N': 0}\n",
    "\n",
    "# solution = PDE_2D_Solver(space,BCs)\n",
    "# solution.solver(BCs_values)\n",
    "# solution.velocityfield()\n",
    "# solution.plot2D()\n",
    "# solution.stream()\n",
    "# solution.countour()\n",
    "\n",
    "compt_dom = Mesh(block_coordinates, node_numbers)\n",
    "compt_dom.uniform_block_mesh_2D()\n",
    "compt_dom.plot2D()\n",
    "space.plot2D()\n",
    "\n",
    "OneDcentraldiff(compt_dom.matricies[0], a) \n",
    "# compt_dom.matricies[1] "
   ]
  },
  {
   "cell_type": "code",
   "execution_count": null,
   "metadata": {},
   "outputs": [],
   "source": []
  }
 ],
 "metadata": {
  "kernelspec": {
   "display_name": "Python 3.10.6 64-bit",
   "language": "python",
   "name": "python3"
  },
  "language_info": {
   "codemirror_mode": {
    "name": "ipython",
    "version": 3
   },
   "file_extension": ".py",
   "mimetype": "text/x-python",
   "name": "python",
   "nbconvert_exporter": "python",
   "pygments_lexer": "ipython3",
   "version": "3.10.6"
  },
  "orig_nbformat": 4,
  "vscode": {
   "interpreter": {
    "hash": "916dbcbb3f70747c44a77c7bcd40155683ae19c65e1c03b4aa3499c5328201f1"
   }
  }
 },
 "nbformat": 4,
 "nbformat_minor": 2
}
